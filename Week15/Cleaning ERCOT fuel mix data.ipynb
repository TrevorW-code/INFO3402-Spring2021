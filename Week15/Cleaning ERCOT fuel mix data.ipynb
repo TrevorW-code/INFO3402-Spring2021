{
 "cells": [
  {
   "cell_type": "markdown",
   "id": "criminal-brunswick",
   "metadata": {},
   "source": [
    "# Cleaning historical ERCOT fuel mix data\n",
    "\n",
    "[Brian C. Keegan, Ph.D.](http://brianckeegan.com/)  \n",
    "[Assistant Professor, Department of Information Science](https://www.colorado.edu/cmci/people/information-science/brian-c-keegan)  \n",
    "University of Colorado Boulder  \n",
    "\n",
    "Copyright and distributed under an [MIT License](https://opensource.org/licenses/MIT)."
   ]
  },
  {
   "cell_type": "code",
   "execution_count": 1,
   "id": "strong-smooth",
   "metadata": {},
   "outputs": [],
   "source": [
    "import numpy as np\n",
    "import pandas as pd\n",
    "\n",
    "import os, re\n",
    "\n",
    "# %matplotlib inline\n",
    "# import matplotlib.pyplot as plt\n",
    "# import seaborn as sb"
   ]
  },
  {
   "cell_type": "markdown",
   "id": "decimal-peter",
   "metadata": {},
   "source": [
    "## Texas fuel generation data\n",
    "\n",
    "Use the ERCOT 20201 \"Fuel Mix Report\" available from its \"[Generation](http://www.ercot.com/gridinfo/generation)\" page. Download the historical 2007-2020 data and unzip. Download the in-progress 2021 data. Put the 2021 file in the same unzipped directory as the 2007-2020 data."
   ]
  },
  {
   "cell_type": "markdown",
   "id": "consistent-albania",
   "metadata": {},
   "source": [
    "Read in previous years' data, reshape, and combine to aid in comparisons. \n",
    "\n",
    "The path to the folder where the data you've downloaded is very likely different than my path."
   ]
  },
  {
   "cell_type": "code",
   "execution_count": 2,
   "id": "backed-whole",
   "metadata": {},
   "outputs": [
    {
     "data": {
      "text/plain": [
       "['IntGenByFuel2007.xls',\n",
       " 'IntGenByFuel2008.xls',\n",
       " 'IntGenByFuel2009.xls',\n",
       " 'IntGenByFuel2010.xls',\n",
       " 'IntGenByFuel2011.xls',\n",
       " 'IntGenByFuel2012.xls',\n",
       " 'IntGenByFuel2013.xls',\n",
       " 'IntGenByFuel2014.xls',\n",
       " 'IntGenByFuel2015.xls',\n",
       " 'IntGenByFuel2016.xlsx',\n",
       " 'IntGenbyFuel2017.xlsx',\n",
       " 'IntGenbyFuel2018.xlsx',\n",
       " 'IntGenbyFuel2019.xlsx',\n",
       " 'IntGenbyFuel2020.xlsx',\n",
       " 'IntGenbyFuel2021.xlsx']"
      ]
     },
     "execution_count": 2,
     "metadata": {},
     "output_type": "execute_result"
    }
   ],
   "source": [
    "path = '/Users/briankeegan/Downloads/FuelMixReport_PreviousYears/'\n",
    "\n",
    "sorted(os.listdir(path))"
   ]
  },
  {
   "cell_type": "markdown",
   "id": "korean-footage",
   "metadata": {},
   "source": [
    "Define some `time_values` in 15-minute increments and put 00:00 at the end"
   ]
  },
  {
   "cell_type": "code",
   "execution_count": 3,
   "id": "worse-session",
   "metadata": {},
   "outputs": [],
   "source": [
    "time_vals = [str(t.time()) for t in pd.date_range(start='00:00',end='23:55',freq='15min')]\n",
    "time_vals = time_vals[1:] + [time_vals[0]]"
   ]
  },
  {
   "cell_type": "markdown",
   "id": "friendly-engagement",
   "metadata": {},
   "source": [
    "Clean up each file."
   ]
  },
  {
   "cell_type": "code",
   "execution_count": 4,
   "id": "celtic-priest",
   "metadata": {},
   "outputs": [],
   "source": [
    "feb_hist_data = {}\n",
    "\n",
    "for f in os.listdir(path):\n",
    "    # Extract year from filename\n",
    "    _year = re.findall('\\w+(20\\d+).xls',f)[0]\n",
    "    \n",
    "    # Open Excel file\n",
    "    _xl = pd.ExcelFile(path + f)\n",
    "    \n",
    "    # Search for sheetname containing \"Feb\"\n",
    "    _sheet_name = [s for s in _xl.sheet_names if \"Feb\" in s]\n",
    "    \n",
    "    # Open the Feb sheet\n",
    "    _df = _xl.parse(_sheet_name[0])\n",
    "\n",
    "    # Cast columns to strings because some are time objects (?!)\n",
    "    _df.columns = _df.columns.astype(str)\n",
    "    \n",
    "    # Drop \"Unnamed\" columns\n",
    "    _df = _df.drop(columns=[c for c in _df.columns if 'Unnamed:' in c])\n",
    "    \n",
    "    # Find the first column with a timestamp\n",
    "    _min_col_pos = min([i for i,c in enumerate(_df.columns) if '0:15' in c])\n",
    "    \n",
    "    # Relabel columns\n",
    "    _df.columns = _df.columns[:_min_col_pos].tolist() + time_vals\n",
    "\n",
    "    # Some columns have Date-Fuel\n",
    "    if type(_df.iloc[0,0]) == str:\n",
    "        if ' - ' in _df.iloc[0,0]:\n",
    "            _df[['Date','Fuel']] = _df.iloc[:,0].str.split(' - ',expand=True)\n",
    "        elif '-' in _df.iloc[0,0]:\n",
    "            _df[['Date','Fuel']] = _df.iloc[:,0].str.split('-',expand=True)\n",
    "        elif '_' in _df.iloc[0,0]:\n",
    "            _df[['Date','Fuel']] = _df.iloc[:,0].str.split('_',expand=True)\n",
    "            \n",
    "    # Cast Dates to strings\n",
    "    _df['Date'] = pd.to_datetime(_df['Date']).astype('str')\n",
    "    \n",
    "    # Assign cleaned df to year\n",
    "    feb_hist_data[_year] = _df"
   ]
  },
  {
   "cell_type": "markdown",
   "id": "multiple-bleeding",
   "metadata": {},
   "source": [
    "Rename and clean up values in various columns."
   ]
  },
  {
   "cell_type": "code",
   "execution_count": 5,
   "id": "experimental-paintball",
   "metadata": {},
   "outputs": [
    {
     "data": {
      "text/plain": [
       "Nuclear    424\n",
       "Other      424\n",
       "Hydro      424\n",
       "Coal       424\n",
       "Wind       424\n",
       "Gas        424\n",
       "Gas-CC     367\n",
       "Solar      283\n",
       "Biomass    283\n",
       "Name: Fuel, dtype: int64"
      ]
     },
     "execution_count": 5,
     "metadata": {},
     "output_type": "execute_result"
    }
   ],
   "source": [
    "# Concatenate the DFs together into a big DF\n",
    "hist_fuel_mix_df = pd.concat(feb_hist_data.values())\n",
    "\n",
    "# Define a mapping for renaming Fuel values to consistent names\n",
    "fuel_replace_d = {'Fuel':{\n",
    "    'Gas_CC':'Gas-CC',\n",
    "    'Wnd':'Wind',\n",
    "    'Oth':'Other',\n",
    "    'Sun':'Solar',\n",
    "    'Gas_GT':'Gas'}}\n",
    "\n",
    "# Replace the inconsistent values\n",
    "hist_fuel_mix_df = hist_fuel_mix_df.replace(fuel_replace_d)\n",
    "\n",
    "# Count the values in the Fuel column\n",
    "hist_fuel_mix_df['Fuel'].value_counts()"
   ]
  },
  {
   "cell_type": "markdown",
   "id": "structured-gambling",
   "metadata": {},
   "source": [
    "Reshape the data and save it."
   ]
  },
  {
   "cell_type": "code",
   "execution_count": 6,
   "id": "daily-person",
   "metadata": {},
   "outputs": [
    {
     "name": "stdout",
     "output_type": "stream",
     "text": [
      "(333792, 4)\n",
      "2007-02-01 2021-02-28\n"
     ]
    },
    {
     "data": {
      "text/html": [
       "<div>\n",
       "<style scoped>\n",
       "    .dataframe tbody tr th:only-of-type {\n",
       "        vertical-align: middle;\n",
       "    }\n",
       "\n",
       "    .dataframe tbody tr th {\n",
       "        vertical-align: top;\n",
       "    }\n",
       "\n",
       "    .dataframe thead th {\n",
       "        text-align: right;\n",
       "    }\n",
       "</style>\n",
       "<table border=\"1\" class=\"dataframe\">\n",
       "  <thead>\n",
       "    <tr style=\"text-align: right;\">\n",
       "      <th></th>\n",
       "      <th>Datetime</th>\n",
       "      <th>Fuel</th>\n",
       "      <th>Generation</th>\n",
       "    </tr>\n",
       "  </thead>\n",
       "  <tbody>\n",
       "    <tr>\n",
       "      <th>0</th>\n",
       "      <td>2007-02-01</td>\n",
       "      <td>Wind</td>\n",
       "      <td>110.192505</td>\n",
       "    </tr>\n",
       "    <tr>\n",
       "      <th>1</th>\n",
       "      <td>2007-02-01</td>\n",
       "      <td>Coal</td>\n",
       "      <td>3568.420078</td>\n",
       "    </tr>\n",
       "    <tr>\n",
       "      <th>2</th>\n",
       "      <td>2007-02-01</td>\n",
       "      <td>Gas</td>\n",
       "      <td>3024.754058</td>\n",
       "    </tr>\n",
       "    <tr>\n",
       "      <th>3</th>\n",
       "      <td>2007-02-01</td>\n",
       "      <td>Hydro</td>\n",
       "      <td>3.677265</td>\n",
       "    </tr>\n",
       "    <tr>\n",
       "      <th>4</th>\n",
       "      <td>2007-02-01</td>\n",
       "      <td>Nuclear</td>\n",
       "      <td>1249.945931</td>\n",
       "    </tr>\n",
       "  </tbody>\n",
       "</table>\n",
       "</div>"
      ],
      "text/plain": [
       "    Datetime     Fuel   Generation\n",
       "0 2007-02-01     Wind   110.192505\n",
       "1 2007-02-01     Coal  3568.420078\n",
       "2 2007-02-01      Gas  3024.754058\n",
       "3 2007-02-01    Hydro     3.677265\n",
       "4 2007-02-01  Nuclear  1249.945931"
      ]
     },
     "execution_count": 6,
     "metadata": {},
     "output_type": "execute_result"
    }
   ],
   "source": [
    "# Melt the data from wide to long\n",
    "hist_fuel_mix_melted_df = pd.melt(hist_fuel_mix_df,\n",
    "                             id_vars=['Date','Fuel'],\n",
    "                             value_vars=time_vals,\n",
    "                             var_name='Time',\n",
    "                             value_name='Generation'\n",
    "                            )\n",
    "\n",
    "print(hist_fuel_mix_melted_df.shape)\n",
    "print(hist_fuel_mix_melted_df['Date'].min(),hist_fuel_mix_melted_df['Date'].max())\n",
    "\n",
    "# Combine Date and Time columns\n",
    "hist_fuel_mix_melted_df['Datetime'] = pd.to_datetime(hist_fuel_mix_melted_df['Date'].astype(str) + ' ' + hist_fuel_mix_melted_df['Time'].astype(str))\n",
    "\n",
    "# Subset to non-redundant columns\n",
    "hist_fuel_mix_melted_df = hist_fuel_mix_melted_df[['Datetime','Fuel','Generation']]\n",
    "\n",
    "# Sort data\n",
    "hist_fuel_mix_melted_df = hist_fuel_mix_melted_df.sort_values('Datetime').reset_index(drop=True)\n",
    "\n",
    "# Save data\n",
    "hist_fuel_mix_melted_df.to_csv('ercot_feb_fuel_mix.csv')\n",
    "\n",
    "# Inspect\n",
    "hist_fuel_mix_melted_df.head()"
   ]
  },
  {
   "cell_type": "code",
   "execution_count": null,
   "id": "starting-optimum",
   "metadata": {},
   "outputs": [],
   "source": []
  }
 ],
 "metadata": {
  "kernelspec": {
   "display_name": "Python 3",
   "language": "python",
   "name": "python3"
  },
  "language_info": {
   "codemirror_mode": {
    "name": "ipython",
    "version": 3
   },
   "file_extension": ".py",
   "mimetype": "text/x-python",
   "name": "python",
   "nbconvert_exporter": "python",
   "pygments_lexer": "ipython3",
   "version": "3.8.8"
  }
 },
 "nbformat": 4,
 "nbformat_minor": 5
}
